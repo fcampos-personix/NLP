{
  "nbformat": 4,
  "nbformat_minor": 0,
  "metadata": {
    "colab": {
      "name": "GCP STT.ipynb",
      "provenance": [],
      "collapsed_sections": [],
      "mount_file_id": "10F-TGBf1Bf1xoz7Mpdq2lOX_wWXQNfCM",
      "authorship_tag": "ABX9TyMGKMmQzoiuUvoFj9y73DXs",
      "include_colab_link": true
    },
    "kernelspec": {
      "name": "python3",
      "display_name": "Python 3"
    },
    "language_info": {
      "name": "python"
    }
  },
  "cells": [
    {
      "cell_type": "markdown",
      "metadata": {
        "id": "view-in-github",
        "colab_type": "text"
      },
      "source": [
        "<a href=\"https://colab.research.google.com/github/fcampos-personix/NLP/blob/main/GCP_STT.ipynb\" target=\"_parent\"><img src=\"https://colab.research.google.com/assets/colab-badge.svg\" alt=\"Open In Colab\"/></a>"
      ]
    },
    {
      "cell_type": "markdown",
      "metadata": {
        "id": "VG7FcXjJRWeS"
      },
      "source": [
        "## **Install Packages and Set Credentials**"
      ]
    },
    {
      "cell_type": "code",
      "metadata": {
        "id": "xRS77B8nEQfs"
      },
      "source": [
        "import os\n",
        "credentials= \"/content/drive/MyDrive/PersoniX/Dev/GCP/neon-partition-313318-ee8b12572f26.json\"\n",
        "os.environ[\"GOOGLE_APPLICATION_CREDENTIALS\"]= credentials"
      ],
      "execution_count": 13,
      "outputs": []
    },
    {
      "cell_type": "code",
      "metadata": {
        "id": "dP3Vqpui4Pom"
      },
      "source": [
        "pip install google-cloud-speech"
      ],
      "execution_count": null,
      "outputs": []
    },
    {
      "cell_type": "markdown",
      "metadata": {
        "id": "CgkFgaikRlOz"
      },
      "source": [
        "## **Speech To Text Function**"
      ]
    },
    {
      "cell_type": "code",
      "metadata": {
        "id": "CymYrGPb17Zr"
      },
      "source": [
        "def transcribe_gcs_speakers(gcs_uri):\n",
        "    from google.cloud import speech_v1p1beta1 as speech\n",
        "\n",
        "    client = speech.SpeechClient()\n",
        "    audio = speech.RecognitionAudio(uri = gcs_uri)\n",
        "    config = speech.RecognitionConfig( \n",
        "        language_code = 'en-US',\n",
        "        enable_speaker_diarization=True, \n",
        "        diarization_speaker_count=2, #multiple speakers option\n",
        "        enable_automatic_punctuation=True, #add punctuation and uppercase\n",
        "        use_enhanced=True, #enhanced model activation\n",
        "        model=\"video\", #enhanced for audio extracted from videos\n",
        "        )\n",
        "    \n",
        "    operation = client.long_running_recognize(config=config, audio=audio)\n",
        "\n",
        "    print('Waiting for operation to complete...')\n",
        "\n",
        "    response = operation.result(timeout=3000)\n",
        "    result = response.results[-1]\n",
        "\n",
        "    words_info = result.alternatives[0].words\n",
        "    \n",
        "    tag=1\n",
        "    speaker=\"\"\n",
        "\n",
        "    for word_info in words_info:\n",
        "        if word_info.speaker_tag==tag:\n",
        "            speaker=speaker+\" \"+word_info.word\n",
        "\n",
        "        else:\n",
        "            print(\"speaker {}: {}\".format(tag,speaker))\n",
        "            tag=word_info.speaker_tag\n",
        "            speaker=\"\"+word_info.word\n",
        "\n",
        "    print(\"speaker {}: {}\".format(tag,speaker))"
      ],
      "execution_count": 9,
      "outputs": []
    },
    {
      "cell_type": "markdown",
      "metadata": {
        "id": "Ley1tjpKVUgw"
      },
      "source": [
        "## **Upload File To GC Bucket**"
      ]
    },
    {
      "cell_type": "code",
      "metadata": {
        "id": "DdnQ7h8UTZnO"
      },
      "source": [
        "def upload_to_bucket(name,filepath,bucket_name='recordings_discovery'):\n",
        "    from google.cloud import storage\n",
        "    # Setting credentials using the downloaded JSON file\n",
        "    client = storage.Client.from_service_account_json(json_credentials_path=credentials)\n",
        "    # Creating bucket object\n",
        "    bucket = client.get_bucket(bucket_name)\n",
        "    # Name of the object to be stored in the bucket\n",
        "    object_name_in_gcs_bucket = bucket.blob(name)\n",
        "    # Name of the object in local file system\n",
        "    object_name_in_gcs_bucket.upload_from_filename(filepath)\n",
        "    print('File uploaded successfully!')\n"
      ],
      "execution_count": 14,
      "outputs": []
    },
    {
      "cell_type": "code",
      "metadata": {
        "colab": {
          "base_uri": "https://localhost:8080/"
        },
        "id": "8_zZeV3BWLiU",
        "outputId": "7a116272-e6a6-41f6-e393-1ba5f73f49a1"
      },
      "source": [
        "upload_to_bucket(\"Kari_Paxton.wav\", \"/content/drive/MyDrive/PersoniX/Interviews/Interview Recordings/WAV/Keri_Paxton.wav\" )"
      ],
      "execution_count": 15,
      "outputs": [
        {
          "output_type": "stream",
          "text": [
            "File uploaded successfully!\n"
          ],
          "name": "stdout"
        }
      ]
    },
    {
      "cell_type": "markdown",
      "metadata": {
        "id": "KTplQYqQSAQu"
      },
      "source": [
        "## **Transcription Task**"
      ]
    },
    {
      "cell_type": "code",
      "metadata": {
        "id": "XS6o5h3E38nf"
      },
      "source": [
        "#the file must be uploaded to the GC bucket first\n",
        "transcript= transcribe_gcs_speakers(\"gs://personix_nn/recordings_discovery/Meeting Mike Agronin.wav\")"
      ],
      "execution_count": null,
      "outputs": []
    }
  ]
}